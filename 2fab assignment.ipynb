{
 "cells": [
  {
   "cell_type": "markdown",
   "id": "5163ba16-ded6-4a9c-92ee-d7254f20977e",
   "metadata": {},
   "source": [
    "Q4. Create a list of numbers from 1 to 100. Use for loop and while loop to calculate the cube of each  number and if the cube of that number is divisible by 4 or 5 then append that number in a list and print  that list. \n"
   ]
  },
  {
   "cell_type": "code",
   "execution_count": 4,
   "id": "8ad47655-0125-420d-8d44-f96a17396091",
   "metadata": {},
   "outputs": [
    {
     "name": "stdout",
     "output_type": "stream",
     "text": [
      "[12, 15, 24, 30, 36, 45, 48, 60, 72, 75, 84, 90, 96, 105, 108, 120, 132, 135, 144, 150, 156, 165, 168, 180, 192, 195, 204, 210, 216, 225, 228, 240, 252, 255, 264, 270, 276, 285, 288, 300]\n"
     ]
    }
   ],
   "source": [
    "#4 ans:\n",
    "l=list(range(1,101))\n",
    "l2=[]\n",
    "l3=[]\n",
    "for i in l:\n",
    "    l2.append(i*3)\n",
    "for i in l2:\n",
    "    if (i)%4==0 or (i)%5==0:\n",
    "        l3.append(i)\n",
    "print(l3)"
   ]
  },
  {
   "cell_type": "markdown",
   "id": "59d3543b-2ffd-4239-a694-f65aa847846b",
   "metadata": {},
   "source": [
    "Q2.  Write a python program to print the sum and product of the first 10 natural numbers using for  and while loop. \n"
   ]
  },
  {
   "cell_type": "code",
   "execution_count": 1,
   "id": "3d6b6243-43db-419e-a611-addcb6de0ca2",
   "metadata": {},
   "outputs": [
    {
     "name": "stdout",
     "output_type": "stream",
     "text": [
      "55\n"
     ]
    }
   ],
   "source": [
    "##2.ans\n",
    "n=10\n",
    "counter=0\n",
    "i=1\n",
    "while i<=n:\n",
    "    counter=counter+i\n",
    "    i=i+1\n",
    "print(counter)"
   ]
  },
  {
   "cell_type": "markdown",
   "id": "0243c374-c42e-4a62-bd11-b4a363935d92",
   "metadata": {},
   "source": [
    "Q5.  Write a program to filter count vowels in the below-given string. \n",
    "string = \"I want to become a data scientist\" \n"
   ]
  },
  {
   "cell_type": "code",
   "execution_count": 65,
   "id": "6844d39b-7335-409b-a193-74a9113b60d4",
   "metadata": {},
   "outputs": [
    {
     "name": "stdout",
     "output_type": "stream",
     "text": [
      "31\n"
     ]
    }
   ],
   "source": [
    "string='i want to become data scientist'\n",
    "count=0\n",
    "vowels=['a','e','i','o','u']\n",
    "for i in range(len(string)):\n",
    "        count=count+1\n",
    "print(count)"
   ]
  },
  {
   "cell_type": "markdown",
   "id": "d1acc653-19be-436c-8fc1-52d86289da2e",
   "metadata": {},
   "source": [
    "Q1.  Explain with an example each when to use a for loop and a while loop. "
   ]
  },
  {
   "cell_type": "markdown",
   "id": "46712260-3235-4922-871e-52ada4ec1f22",
   "metadata": {},
   "source": [
    "The for loop is used when we already know the number of iterations, which means when we know how many times a statement has to be executed. That is why we have to specify the ending point in the for loop initialization. When we need to end the loop on a condition other than the number of times, we use a while loop.\n",
    "The for and while loops are both conditional statements. A for loop is a single-line command that will be executed repeatedly. While loops can be single-lined or contain multiple commands for a single condition. Both the for loop and the while loop are important in computer languages for obtaining results.\n"
   ]
  },
  {
   "cell_type": "markdown",
   "id": "ae048140-322c-48f3-a908-749d259f8648",
   "metadata": {},
   "source": [
    "Q3. Create a python program to compute the electricity bill for a household."
   ]
  },
  {
   "cell_type": "code",
   "execution_count": 1,
   "id": "1cc3b41f-bfce-4edf-9b9f-c0c3af27882e",
   "metadata": {},
   "outputs": [
    {
     "name": "stdin",
     "output_type": "stream",
     "text": [
      "the units of electricity consumed in a month 310\n"
     ]
    },
    {
     "name": "stdout",
     "output_type": "stream",
     "text": [
      "2250.0\n"
     ]
    }
   ],
   "source": [
    "units=int(input('the units of electricity consumed in a month'))\n",
    "if 100>=units:\n",
    "    bill=(units)*4.5\n",
    "elif 200>=units:\n",
    "    bill=(100*4.5)+((units-100)*6)\n",
    "elif 300>=units:\n",
    "    bill=(100*4.5)+(100*6)+((units-200)*10)\n",
    "elif 300<units:\n",
    "    bill=(100*4.5)+(100*6)+(100*10)+(units-300)*20\n",
    "print(bill)"
   ]
  },
  {
   "cell_type": "markdown",
   "id": "f9229316-98d8-49b7-bdfb-d36595d86e89",
   "metadata": {},
   "source": [
    "Q5 Write a program to filter count vowels in the below-given string. \n",
    "string = \"I want to become a data scientist\" "
   ]
  },
  {
   "cell_type": "code",
   "execution_count": null,
   "id": "0f2ffa04-946a-4cef-b801-d14c62273717",
   "metadata": {},
   "outputs": [],
   "source": [
    "string = \"I want to become a data scientist\" \n",
    "vowels=0\n",
    "for i in string:\n",
    "      if(i=='a' or i=='e' or i=='i' or i=='o' or i=='u' or i=='A' or i=='E' or i=='I' or i=='O' or i=='U'):\n",
    "            vowels=vowels+1\n",
    "print(\"Number of vowels are:\")\n",
    "print(vowels)"
   ]
  }
 ],
 "metadata": {
  "kernelspec": {
   "display_name": "Python 3 (ipykernel)",
   "language": "python",
   "name": "python3"
  },
  "language_info": {
   "codemirror_mode": {
    "name": "ipython",
    "version": 3
   },
   "file_extension": ".py",
   "mimetype": "text/x-python",
   "name": "python",
   "nbconvert_exporter": "python",
   "pygments_lexer": "ipython3",
   "version": "3.10.8"
  }
 },
 "nbformat": 4,
 "nbformat_minor": 5
}
